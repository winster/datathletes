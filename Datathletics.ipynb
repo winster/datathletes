{
 "cells": [
  {
   "cell_type": "code",
   "execution_count": 6,
   "metadata": {},
   "outputs": [
    {
     "name": "stdout",
     "output_type": "stream",
     "text": [
      "Python version 3.6.1 (default, Mar 23 2017, 16:49:06) \n",
      "[GCC 4.2.1 Compatible Apple LLVM 8.0.0 (clang-800.0.42.1)]\n",
      "Pandas version 0.19.2\n",
      "Matplotlib version 2.0.0\n"
     ]
    }
   ],
   "source": [
    "# Import all libraries needed for the tutorial\n",
    "\n",
    "# General syntax to import specific functions in a library: \n",
    "##from (library) import (specific library function)\n",
    "from pandas import DataFrame, read_csv\n",
    "\n",
    "# General syntax to import a library but no functions: \n",
    "##import (library) as (give the library a nickname/alias)\n",
    "import matplotlib.pyplot as plt\n",
    "import pandas as pd #this is how I usually import pandas\n",
    "import sys #only needed to determine Python version number\n",
    "import matplotlib #only needed to determine Matplotlib version number\n",
    "\n",
    "# Enable inline plotting\n",
    "%matplotlib inline\n",
    "print('Python version ' + sys.version)\n",
    "print('Pandas version ' + pd.__version__)\n",
    "print('Matplotlib version ' + matplotlib.__version__)"
   ]
  },
  {
   "cell_type": "code",
   "execution_count": 7,
   "metadata": {},
   "outputs": [
    {
     "name": "stdout",
     "output_type": "stream",
     "text": [
      "<class 'str'>\n"
     ]
    },
    {
     "name": "stderr",
     "output_type": "stream",
     "text": [
      "/usr/local/lib/python3.6/site-packages/ipykernel_launcher.py:7: SettingWithCopyWarning: \n",
      "A value is trying to be set on a copy of a slice from a DataFrame\n",
      "\n",
      "See the caveats in the documentation: http://pandas.pydata.org/pandas-docs/stable/indexing.html#indexing-view-versus-copy\n",
      "  import sys\n"
     ]
    },
    {
     "name": "stdout",
     "output_type": "stream",
     "text": [
      "<class 'str'>\n"
     ]
    },
    {
     "name": "stderr",
     "output_type": "stream",
     "text": [
      "/usr/local/lib/python3.6/site-packages/ipykernel_launcher.py:18: SettingWithCopyWarning: \n",
      "A value is trying to be set on a copy of a slice from a DataFrame\n",
      "\n",
      "See the caveats in the documentation: http://pandas.pydata.org/pandas-docs/stable/indexing.html#indexing-view-versus-copy\n"
     ]
    }
   ],
   "source": [
    "Location = r'train.csv'\n",
    "df = pd.read_csv(Location, parse_dates=['Date'])\n",
    "print(type(df[\"Hour\"][0]))\n",
    "\n",
    "#converting the 'Hour' column to Numbers for training\n",
    "for i, row in df.iterrows():  #i: dataframe index; row: each row in series format\n",
    "    df['Hour'][i] = int(df['Hour'][i][:2])\n",
    "    \n",
    "#print(df.head())\n",
    "\n",
    "#testing Data\n",
    "Location = r'test.csv'\n",
    "test_df = pd.read_csv(Location, parse_dates=['Date'])\n",
    "print(type(test_df[\"Hour\"][0]))\n",
    "\n",
    "#converting the 'Hour' column to Numbers for testing\n",
    "for i, row in test_df.iterrows():  #i: dataframe index; row: each row in series format\n",
    "    test_df['Hour'][i] = int(test_df['Hour'][i][:2])"
   ]
  },
  {
   "cell_type": "code",
   "execution_count": 8,
   "metadata": {},
   "outputs": [
    {
     "name": "stdout",
     "output_type": "stream",
     "text": [
      "[[424   3  11  16]\n",
      " [140   1   5   6]\n",
      " [173   1  12  10]\n",
      " ..., \n",
      " [285   1  12  22]\n",
      " [175   1  12  11]\n",
      " [319   2  12  12]]\n",
      "[[424   3  11]\n",
      " [140   1   5]\n",
      " [173   1  12]\n",
      " ..., \n",
      " [285   1  12]\n",
      " [175   1  12]\n",
      " [319   2  12]]\n",
      "[16  6 10 ..., 22 11 12]\n"
     ]
    },
    {
     "data": {
      "text/html": [
       "<div>\n",
       "<table border=\"1\" class=\"dataframe\">\n",
       "  <thead>\n",
       "    <tr style=\"text-align: right;\">\n",
       "      <th></th>\n",
       "      <th>Date</th>\n",
       "      <th>Hour</th>\n",
       "      <th>Excluded</th>\n",
       "      <th>Total</th>\n",
       "      <th>Flights</th>\n",
       "      <th>Booths</th>\n",
       "      <th>AvgWtTime</th>\n",
       "    </tr>\n",
       "  </thead>\n",
       "  <tbody>\n",
       "    <tr>\n",
       "      <th>0</th>\n",
       "      <td>2017-05-01</td>\n",
       "      <td>0</td>\n",
       "      <td>14</td>\n",
       "      <td>424</td>\n",
       "      <td>3</td>\n",
       "      <td>11</td>\n",
       "      <td>16</td>\n",
       "    </tr>\n",
       "    <tr>\n",
       "      <th>1</th>\n",
       "      <td>2017-05-01</td>\n",
       "      <td>2</td>\n",
       "      <td>3</td>\n",
       "      <td>140</td>\n",
       "      <td>1</td>\n",
       "      <td>5</td>\n",
       "      <td>6</td>\n",
       "    </tr>\n",
       "    <tr>\n",
       "      <th>2</th>\n",
       "      <td>2017-05-01</td>\n",
       "      <td>6</td>\n",
       "      <td>6</td>\n",
       "      <td>173</td>\n",
       "      <td>1</td>\n",
       "      <td>12</td>\n",
       "      <td>10</td>\n",
       "    </tr>\n",
       "    <tr>\n",
       "      <th>3</th>\n",
       "      <td>2017-05-01</td>\n",
       "      <td>7</td>\n",
       "      <td>11</td>\n",
       "      <td>340</td>\n",
       "      <td>1</td>\n",
       "      <td>12</td>\n",
       "      <td>22</td>\n",
       "    </tr>\n",
       "    <tr>\n",
       "      <th>4</th>\n",
       "      <td>2017-05-01</td>\n",
       "      <td>8</td>\n",
       "      <td>12</td>\n",
       "      <td>422</td>\n",
       "      <td>2</td>\n",
       "      <td>11</td>\n",
       "      <td>10</td>\n",
       "    </tr>\n",
       "  </tbody>\n",
       "</table>\n",
       "</div>"
      ],
      "text/plain": [
       "        Date Hour  Excluded  Total  Flights  Booths  AvgWtTime\n",
       "0 2017-05-01    0        14    424        3      11         16\n",
       "1 2017-05-01    2         3    140        1       5          6\n",
       "2 2017-05-01    6         6    173        1      12         10\n",
       "3 2017-05-01    7        11    340        1      12         22\n",
       "4 2017-05-01    8        12    422        2      11         10"
      ]
     },
     "execution_count": 8,
     "metadata": {},
     "output_type": "execute_result"
    }
   ],
   "source": [
    "#select columns here for features\n",
    "flightDataPd = df[['Total','Flights','Booths','AvgWtTime']]\n",
    "flightData = flightDataPd.as_matrix(columns=flightDataPd.columns[0:])\n",
    "print(flightData)\n",
    "#change the length of the features based on the selection\n",
    "featureLength = 3\n",
    "data_X_train = flightData[:,0:featureLength]\n",
    "print(data_X_train)\n",
    "data_y_train = flightData[:,featureLength]\n",
    "print(data_y_train)\n",
    "df.head()"
   ]
  },
  {
   "cell_type": "code",
   "execution_count": 9,
   "metadata": {},
   "outputs": [
    {
     "data": {
      "text/html": [
       "<div>\n",
       "<table border=\"1\" class=\"dataframe\">\n",
       "  <thead>\n",
       "    <tr style=\"text-align: right;\">\n",
       "      <th></th>\n",
       "      <th>Date</th>\n",
       "      <th>Hour</th>\n",
       "      <th>Excluded</th>\n",
       "      <th>Total</th>\n",
       "      <th>Flights</th>\n",
       "      <th>Booths</th>\n",
       "    </tr>\n",
       "  </thead>\n",
       "  <tbody>\n",
       "    <tr>\n",
       "      <th>0</th>\n",
       "      <td>2017-07-01</td>\n",
       "      <td>0</td>\n",
       "      <td>14</td>\n",
       "      <td>314</td>\n",
       "      <td>2</td>\n",
       "      <td>12</td>\n",
       "    </tr>\n",
       "    <tr>\n",
       "      <th>1</th>\n",
       "      <td>2017-07-01</td>\n",
       "      <td>4</td>\n",
       "      <td>7</td>\n",
       "      <td>150</td>\n",
       "      <td>1</td>\n",
       "      <td>4</td>\n",
       "    </tr>\n",
       "    <tr>\n",
       "      <th>2</th>\n",
       "      <td>2017-07-01</td>\n",
       "      <td>6</td>\n",
       "      <td>12</td>\n",
       "      <td>423</td>\n",
       "      <td>2</td>\n",
       "      <td>13</td>\n",
       "    </tr>\n",
       "    <tr>\n",
       "      <th>3</th>\n",
       "      <td>2017-07-01</td>\n",
       "      <td>7</td>\n",
       "      <td>11</td>\n",
       "      <td>323</td>\n",
       "      <td>1</td>\n",
       "      <td>16</td>\n",
       "    </tr>\n",
       "    <tr>\n",
       "      <th>4</th>\n",
       "      <td>2017-07-01</td>\n",
       "      <td>8</td>\n",
       "      <td>17</td>\n",
       "      <td>444</td>\n",
       "      <td>2</td>\n",
       "      <td>14</td>\n",
       "    </tr>\n",
       "  </tbody>\n",
       "</table>\n",
       "</div>"
      ],
      "text/plain": [
       "        Date Hour  Excluded  Total  Flights  Booths\n",
       "0 2017-07-01    0        14    314        2      12\n",
       "1 2017-07-01    4         7    150        1       4\n",
       "2 2017-07-01    6        12    423        2      13\n",
       "3 2017-07-01    7        11    323        1      16\n",
       "4 2017-07-01    8        17    444        2      14"
      ]
     },
     "execution_count": 9,
     "metadata": {},
     "output_type": "execute_result"
    }
   ],
   "source": [
    "#select columns here for features\n",
    "flightDataTestPd = test_df[['Total','Flights','Booths']]\n",
    "flightDataTest = flightDataTestPd.as_matrix(columns=flightDataTestPd.columns[0:])\n",
    "\n",
    "#change the length of the features based on the selection\n",
    "data_X_test = flightDataTest[:,0:featureLength]\n",
    "#data_y_test = flightDataTest[:,featureLength-1]\n",
    "#print(data_y_test)\n",
    "test_df.head()"
   ]
  },
  {
   "cell_type": "code",
   "execution_count": 10,
   "metadata": {},
   "outputs": [
    {
     "name": "stdout",
     "output_type": "stream",
     "text": [
      "Coefficients: \n",
      " [ 0.00801276 -1.09340249  0.00238761]\n"
     ]
    }
   ],
   "source": [
    "import matplotlib.pyplot as plt\n",
    "import numpy as np\n",
    "from sklearn import datasets, linear_model\n",
    "from sklearn.metrics import mean_squared_error, r2_score\n",
    "from sklearn.model_selection import train_test_split\n",
    "\n",
    "\n",
    "#data_X_train, data_X_test, data_y_train, data_y_test = train_test_split(X, y, test_size=0, random_state=42)\n",
    "\n",
    "\n",
    "# Create linear regression object\n",
    "regr = linear_model.LinearRegression(normalize=True)\n",
    "\n",
    "# Train the model using the training sets\n",
    "regr.fit(data_X_train, data_y_train)\n",
    "\n",
    "# Make predictions using the testing set\n",
    "data_y_pred = regr.predict(data_X_test)\n",
    "df_y_pred = pd.DataFrame(data_y_pred)\n",
    "prediction_location = r'prediction.csv'\n",
    "df_y_pred.to_csv(prediction_location, index=False, header=['AvgWtTime'])\n",
    "# The coefficients\n",
    "print('Coefficients: \\n', regr.coef_)\n",
    "# The mean squared error\n",
    "#print(\"Mean squared error: %.2f\"\n",
    "#      % mean_squared_error(data_y_test, data_y_pred))\n",
    "# Explained variance score: 1 is perfect prediction\n",
    "#print('Variance score: %.2f' % r2_score(data_y_test, data_y_pred))\n",
    "\n"
   ]
  },
  {
   "cell_type": "code",
   "execution_count": null,
   "metadata": {
    "scrolled": false
   },
   "outputs": [],
   "source": [
    "print(data_X_test.shape)\n",
    "#print(data_y_test.shape)"
   ]
  },
  {
   "cell_type": "code",
   "execution_count": null,
   "metadata": {
    "collapsed": true
   },
   "outputs": [],
   "source": []
  }
 ],
 "metadata": {
  "kernelspec": {
   "display_name": "Python 3",
   "language": "python",
   "name": "python3"
  },
  "language_info": {
   "codemirror_mode": {
    "name": "ipython",
    "version": 3
   },
   "file_extension": ".py",
   "mimetype": "text/x-python",
   "name": "python",
   "nbconvert_exporter": "python",
   "pygments_lexer": "ipython3",
   "version": "3.6.1"
  }
 },
 "nbformat": 4,
 "nbformat_minor": 2
}
